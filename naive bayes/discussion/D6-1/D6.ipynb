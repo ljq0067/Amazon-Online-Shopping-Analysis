{
 "cells": [
  {
   "cell_type": "code",
   "execution_count": 1,
   "metadata": {},
   "outputs": [],
   "source": [
    "import pandas as pd\n",
    "import matplotlib.pyplot as plt\n",
    "from sklearn.model_selection import train_test_split\n",
    "from sklearn.metrics import confusion_matrix\n",
    "from sklearn.tree import DecisionTreeClassifier\n",
    "from sklearn import tree\n",
    "from sklearn.ensemble import RandomForestClassifier\n",
    "from sklearn.metrics import classification_report\n",
    "from sklearn.model_selection import GridSearchCV\n",
    "from sklearn.metrics import plot_confusion_matrix\n",
    "from sklearn.naive_bayes import MultinomialNB\n",
    "import numpy as np"
   ]
  },
  {
   "cell_type": "code",
   "execution_count": 2,
   "metadata": {},
   "outputs": [],
   "source": [
    "CVreviews = pd.read_csv(\"/Users/jackpiccione/Google Drive/501Portfolio/data/vectoried_Reviews.csv\")\n",
    "\n",
    "CVreviews.head()\n",
    "\n",
    "X = CVreviews.drop(\"LABEL\",axis=1)\n",
    "y = CVreviews[\"LABEL\"]\n",
    "\n",
    "\n",
    "X_train, X_test,y_train,y_test = train_test_split(X,y,test_size=0.2)"
   ]
  },
  {
   "cell_type": "code",
   "execution_count": 3,
   "metadata": {},
   "outputs": [],
   "source": [
    "#Naive Bayes \n",
    "MyModelNB= MultinomialNB()\n",
    "## Run on all three Dfs.................\n",
    "NB1=MyModelNB.fit(X_train, y_train)\n",
    "Prediction1 = MyModelNB.predict(X_test)\n"
   ]
  },
  {
   "cell_type": "code",
   "execution_count": 4,
   "metadata": {},
   "outputs": [
    {
     "name": "stdout",
     "output_type": "stream",
     "text": [
      "\n",
      "The confusion matrix is:\n",
      "[[3565 1420]\n",
      " [1393 3622]]\n"
     ]
    }
   ],
   "source": [
    "cnf_matrix1 = confusion_matrix(y_test, Prediction1)\n",
    "print(\"\\nThe confusion matrix is:\")\n",
    "print(cnf_matrix1)\n",
    "print(classification_report(y_test, Prediction1))"
   ]
  },
  {
   "cell_type": "code",
   "execution_count": 6,
   "metadata": {},
   "outputs": [],
   "source": [
    "from sklearn.svm import LinearSVC"
   ]
  },
  {
   "cell_type": "code",
   "execution_count": 11,
   "metadata": {},
   "outputs": [
    {
     "name": "stderr",
     "output_type": "stream",
     "text": [
      "/Users/jackpiccione/opt/anaconda3/lib/python3.7/site-packages/sklearn/svm/_base.py:986: ConvergenceWarning: Liblinear failed to converge, increase the number of iterations.\n",
      "  \"the number of iterations.\", ConvergenceWarning)\n"
     ]
    }
   ],
   "source": [
    "#SVM\n",
    "SVM_Model1=LinearSVC(C=1)\n",
    "SVM_Model1.fit(X_train, y_train)\n",
    "y_preds = SVM_Model1.predict(X_test)\n"
   ]
  },
  {
   "cell_type": "code",
   "execution_count": 12,
   "metadata": {},
   "outputs": [
    {
     "name": "stdout",
     "output_type": "stream",
     "text": [
      "\n",
      "The confusion matrix is:\n",
      "[[3526 1414]\n",
      " [1301 3759]]\n",
      "              precision    recall  f1-score   support\n",
      "\n",
      "    negative       0.73      0.71      0.72      4940\n",
      "    positive       0.73      0.74      0.73      5060\n",
      "\n",
      "    accuracy                           0.73     10000\n",
      "   macro avg       0.73      0.73      0.73     10000\n",
      "weighted avg       0.73      0.73      0.73     10000\n",
      "\n"
     ]
    }
   ],
   "source": [
    "cnf_matrix1 = confusion_matrix(y_test, y_preds)\n",
    "print(\"\\nThe confusion matrix is:\")\n",
    "print(cnf_matrix1)\n",
    "print(classification_report(y_test, y_preds))"
   ]
  },
  {
   "cell_type": "code",
   "execution_count": null,
   "metadata": {},
   "outputs": [],
   "source": []
  }
 ],
 "metadata": {
  "interpreter": {
   "hash": "b91977410980d744039f71c38cf087daaefc27f498e0c21a177001bafa8ef0ef"
  },
  "kernelspec": {
   "display_name": "Python 3.7.4 64-bit ('base': conda)",
   "language": "python",
   "name": "python3"
  },
  "language_info": {
   "codemirror_mode": {
    "name": "ipython",
    "version": 3
   },
   "file_extension": ".py",
   "mimetype": "text/x-python",
   "name": "python",
   "nbconvert_exporter": "python",
   "pygments_lexer": "ipython3",
   "version": "3.7.4"
  },
  "orig_nbformat": 4
 },
 "nbformat": 4,
 "nbformat_minor": 2
}
