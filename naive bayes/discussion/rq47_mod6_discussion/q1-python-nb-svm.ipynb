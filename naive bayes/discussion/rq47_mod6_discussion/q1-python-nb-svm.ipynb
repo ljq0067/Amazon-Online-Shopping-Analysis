{
 "cells": [
  {
   "cell_type": "markdown",
   "metadata": {},
   "source": [
    "# ANLY-501 mod 6 discussion: Naive Bayes and linear SVM with Python\n",
    "\n",
    "Rui Qiu (rq47)\n",
    "\n",
    "2021-11-08\n",
    "\n",
    "The source of text data is the infamous [20 Newsgroups](http://qwone.com/~jason/20Newsgroups/)."
   ]
  },
  {
   "cell_type": "code",
   "execution_count": 1,
   "metadata": {},
   "outputs": [],
   "source": [
    "from sklearn.datasets import fetch_20newsgroups\n",
    "from sklearn.feature_extraction.text import CountVectorizer, TfidfTransformer\n",
    "from sklearn.naive_bayes import MultinomialNB\n",
    "from sklearn.svm import LinearSVC\n",
    "from sklearn.pipeline import Pipeline\n",
    "from pprint import pprint\n",
    "\n",
    "news_train = fetch_20newsgroups(subset='train', shuffle=True)"
   ]
  },
  {
   "cell_type": "code",
   "execution_count": 2,
   "metadata": {},
   "outputs": [
    {
     "name": "stdout",
     "output_type": "stream",
     "text": [
      "['alt.atheism',\n",
      " 'comp.graphics',\n",
      " 'comp.os.ms-windows.misc',\n",
      " 'comp.sys.ibm.pc.hardware',\n",
      " 'comp.sys.mac.hardware',\n",
      " 'comp.windows.x',\n",
      " 'misc.forsale',\n",
      " 'rec.autos',\n",
      " 'rec.motorcycles',\n",
      " 'rec.sport.baseball',\n",
      " 'rec.sport.hockey',\n",
      " 'sci.crypt',\n",
      " 'sci.electronics',\n",
      " 'sci.med',\n",
      " 'sci.space',\n",
      " 'soc.religion.christian',\n",
      " 'talk.politics.guns',\n",
      " 'talk.politics.mideast',\n",
      " 'talk.politics.misc',\n",
      " 'talk.religion.misc']\n"
     ]
    }
   ],
   "source": [
    "pprint(list(news_train.target_names))"
   ]
  },
  {
   "cell_type": "markdown",
   "metadata": {},
   "source": [
    "## Naive Bayes Classifer"
   ]
  },
  {
   "cell_type": "code",
   "execution_count": 3,
   "metadata": {},
   "outputs": [],
   "source": [
    "nb_clf = Pipeline([('vect', CountVectorizer()),\n",
    "                    ('tfidf', TfidfTransformer()),\n",
    "                    ('clf', MultinomialNB())])\n",
    "\n",
    "nb_clf = nb_clf.fit(news_train.data, news_train.target)"
   ]
  },
  {
   "cell_type": "code",
   "execution_count": 4,
   "metadata": {},
   "outputs": [
    {
     "name": "stdout",
     "output_type": "stream",
     "text": [
      "People ‘unvaccinated by choice’ in Singapore no longer can receive free covid-19 treatment => soc.religion.christian\n",
      "Bradley Beal is setting the tone for the thriving Wizards: ‘It’s taking us to another level’ => soc.religion.christian\n",
      "Lewis Hamilton and Mercedes not giving up F1 title fight, insists Toto Wolff => soc.religion.christian\n",
      "Hubble telescope team gets one science instrument running again, continues troubleshooting glitch => sci.space\n"
     ]
    }
   ],
   "source": [
    "nb_test = [\n",
    "    \"People ‘unvaccinated by choice’ in Singapore no longer can receive free covid-19 treatment\",\n",
    "    \"Bradley Beal is setting the tone for the thriving Wizards: ‘It’s taking us to another level’\",\n",
    "    \"Lewis Hamilton and Mercedes not giving up F1 title fight, insists Toto Wolff\",\n",
    "    \"Hubble telescope team gets one science instrument running again, continues troubleshooting glitch\"\n",
    "]\n",
    "\n",
    "nb_pred = nb_clf.predict(nb_test)\n",
    "\n",
    "nb_pred\n",
    "\n",
    "for doc, category in zip(nb_test, nb_pred):\n",
    "    print(\"{0} => {1}\".format(doc, news_train.target_names[category]))"
   ]
  },
  {
   "cell_type": "markdown",
   "metadata": {},
   "source": [
    "It seems that our naive Bayes classifier only got one out of four test cases correct.\n",
    "\n",
    "## Linear SVM"
   ]
  },
  {
   "cell_type": "code",
   "execution_count": 5,
   "metadata": {},
   "outputs": [],
   "source": [
    "svm_clf = Pipeline([('vect', CountVectorizer()),\n",
    "                    ('tfidf', TfidfTransformer()),\n",
    "                    ('clf', LinearSVC(random_state=42))])\n",
    "\n",
    "svm_clf = svm_clf.fit(news_train.data, news_train.target)"
   ]
  },
  {
   "cell_type": "code",
   "execution_count": 6,
   "metadata": {},
   "outputs": [
    {
     "name": "stdout",
     "output_type": "stream",
     "text": [
      "People ‘unvaccinated by choice’ in Singapore no longer can receive free covid-19 treatment => sci.med\n",
      "Bradley Beal is setting the tone for the thriving Wizards: ‘It’s taking us to another level’ => comp.graphics\n",
      "Lewis Hamilton and Mercedes not giving up F1 title fight, insists Toto Wolff => comp.windows.x\n",
      "Hubble telescope team gets one science instrument running again, continues troubleshooting glitch => sci.space\n"
     ]
    }
   ],
   "source": [
    "svm_pred = svm_clf.predict(nb_test)\n",
    "\n",
    "svm_pred\n",
    "\n",
    "for doc, category in zip(nb_test, svm_pred):\n",
    "    print(\"{0} => {1}\".format(doc, news_train.target_names[category]))"
   ]
  },
  {
   "cell_type": "markdown",
   "metadata": {},
   "source": [
    "Well, two correct. Improvments I see!"
   ]
  }
 ],
 "metadata": {
  "interpreter": {
   "hash": "103cb6c97b33abf57b5e7de9d80fcc551befabea1ec9af8c80e906dcb7507bd8"
  },
  "kernelspec": {
   "display_name": "Python 3.7.11 64-bit ('anly-580': conda)",
   "language": "python",
   "name": "python3"
  },
  "language_info": {
   "codemirror_mode": {
    "name": "ipython",
    "version": 3
   },
   "file_extension": ".py",
   "mimetype": "text/x-python",
   "name": "python",
   "nbconvert_exporter": "python",
   "pygments_lexer": "ipython3",
   "version": "3.7.11"
  },
  "orig_nbformat": 4
 },
 "nbformat": 4,
 "nbformat_minor": 2
}
