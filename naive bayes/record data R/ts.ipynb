{
 "cells": [
  {
   "cell_type": "code",
   "execution_count": null,
   "metadata": {
    "collapsed": true
   },
   "outputs": [],
   "source": [
    "import sqlite3\n",
    "\n",
    "import pandas as pd\n",
    "\n",
    "\n",
    "db = sqlite3.connect('../../data/amazon.db')\n",
    "\n",
    "drive_df = pd.read_sql('select * from drive', db)\n",
    "drive_df.head()"
   ]
  },
  {
   "cell_type": "code",
   "execution_count": null,
   "outputs": [],
   "source": [
    "def search(asin):\n",
    "    drive_ts = pd.read_sql_query(f'select keepa_minute, value1 from drive_ts where asin = \"{asin}\" and keepa_idx=1 and value1 != -1', db)\n",
    "    drive_ts['ts'] = pd.to_datetime((drive_ts['keepa_minute'] + 21564000) * 60, unit='s')\n",
    "    drive_ts.set_index('ts', inplace=True)\n",
    "    drive_ts = drive_ts.resample('1D').ffill()\n",
    "    drive_ts = drive_ts.resample('M').mean()\n",
    "    if '2021-01' not in drive_ts.index:\n",
    "        return None\n",
    "    base_price = drive_ts.loc['2021-01']['value1'][0]\n",
    "    price_dict = {'base_price': base_price}\n",
    "    for d in ['2021-01', '2021-02', '2021-03', '2021-04', '2021-05', '2021-06', '2021-07', '2021-08', '2021-09', '2021-10']:\n",
    "        if d in drive_ts.index:\n",
    "            price_dict[d] = drive_ts.loc[d]['value1'][0] / base_price\n",
    "        else:\n",
    "            price_dict[d] = 1\n",
    "    return price_dict\n",
    "\n",
    "print(search(drive_df['asin'][15]))"
   ],
   "metadata": {
    "collapsed": false,
    "pycharm": {
     "name": "#%%\n"
    }
   }
  },
  {
   "cell_type": "code",
   "execution_count": null,
   "outputs": [],
   "source": [
    "df_dict = []\n",
    "\n",
    "for idx, row in drive_df.iterrows():\n",
    "    ts = search(row['asin'])\n",
    "    if ts is None:\n",
    "        continue\n",
    "    ts['asin'] = row['asin']\n",
    "    ts['brand'] = row['brand']\n",
    "    ts['product'] = row['model_name']\n",
    "    ts['drive_type'] = row['drive_type']\n",
    "    ts['drive_subtype'] = row['drive_subtype']\n",
    "    ts['capacity'] = row['capacity']\n",
    "    df_dict.append(ts)\n",
    "\n",
    "\n",
    "df = pd.DataFrame(df_dict)\n",
    "df.insert(0, 'CHIA_IMPACT', [0] * len(df))\n",
    "len(df)"
   ],
   "metadata": {
    "collapsed": false,
    "pycharm": {
     "name": "#%%\n"
    }
   }
  },
  {
   "cell_type": "code",
   "execution_count": null,
   "outputs": [],
   "source": [
    "from sklearn.model_selection import train_test_split\n",
    "\n",
    "df_train, df_test = train_test_split(df, train_size=60, random_state=501)\n",
    "df_train.to_csv('drive_train.csv', index=False)\n",
    "df_test.to_csv('drive_test.csv', index=False)\n",
    "db.close()"
   ],
   "metadata": {
    "collapsed": false,
    "pycharm": {
     "name": "#%%\n"
    }
   }
  }
 ],
 "metadata": {
  "kernelspec": {
   "display_name": "Python 3",
   "language": "python",
   "name": "python3"
  },
  "language_info": {
   "codemirror_mode": {
    "name": "ipython",
    "version": 2
   },
   "file_extension": ".py",
   "mimetype": "text/x-python",
   "name": "python",
   "nbconvert_exporter": "python",
   "pygments_lexer": "ipython2",
   "version": "2.7.6"
  }
 },
 "nbformat": 4,
 "nbformat_minor": 0
}